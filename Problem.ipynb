{
 "cells": [
  {
   "cell_type": "code",
   "execution_count": 5,
   "metadata": {},
   "outputs": [],
   "source": [
    "# 1. Write a function that reports the number of sequences in a fasta file"
   ]
  },
  {
   "cell_type": "code",
   "execution_count": 6,
   "metadata": {},
   "outputs": [
    {
     "data": {
      "text/plain": [
       "250"
      ]
     },
     "execution_count": 6,
     "metadata": {},
     "output_type": "execute_result"
    }
   ],
   "source": [
    "import os\n",
    "os.chdir(\"/Users/ruijuanli/Desktop/2018_summer/Pithon_Ruijuan.L/Chapter_6/\")\n",
    "\n",
    "fa_file = 'SP1.fa'\n",
    "\n",
    "def fa_len(fa_file):\n",
    "    with open(fa_file) as f:\n",
    "        line_count = 0\n",
    "        for line in f:\n",
    "            if line.startswith('>'):\n",
    "                line_count = line_count + 1\n",
    "    return(line_count) # can be problematic because sometimes seq can run across several lines \n",
    "\n",
    "fa_len(fa_file)"
   ]
  },
  {
   "cell_type": "code",
   "execution_count": 7,
   "metadata": {},
   "outputs": [],
   "source": [
    "# 2. Write a function that reports the number of sequences in a fastq file"
   ]
  },
  {
   "cell_type": "code",
   "execution_count": 8,
   "metadata": {},
   "outputs": [],
   "source": [
    "import re\n",
    "def fq_len(fq_file):\n",
    "    with open(fa_file) as f:\n",
    "        line_count = 0\n",
    "        for line in f:\n",
    "            line_count = line_count + 1\n",
    "    return(round(line_count/4))"
   ]
  },
  {
   "cell_type": "code",
   "execution_count": 9,
   "metadata": {},
   "outputs": [
    {
     "data": {
      "text/plain": [
       "125"
      ]
     },
     "execution_count": 9,
     "metadata": {},
     "output_type": "execute_result"
    }
   ],
   "source": [
    "fq_len(\"SP1.fq\")"
   ]
  },
  {
   "cell_type": "code",
   "execution_count": 10,
   "metadata": {},
   "outputs": [],
   "source": [
    "# 3. Modify one of your functions from problem 1 or 2 to work with a file stored on the internet. For example be able to load this file sample.fa"
   ]
  },
  {
   "cell_type": "code",
   "execution_count": 11,
   "metadata": {},
   "outputs": [
    {
     "name": "stdout",
     "output_type": "stream",
     "text": [
      ">derice\r\n",
      "ACTGACTAGCTAGCTAACTG\r\n",
      ">sanka\r\n",
      "GCATCGTAGCTAGCTACGAT\r\n",
      ">junior\r\n",
      "CATCGATCGTACGTACGTAG\r\n",
      ">yul\r\n",
      "ATCGATCGATCGTACGATCG\n"
     ]
    }
   ],
   "source": [
    "import urllib.request\n",
    "\n",
    "u = 'http://molb7621.github.io/workshop/_downloads/sample.fa'\n",
    "f = urllib.request.urlopen(u)\n",
    "contents = f.read().decode(\"utf-8\", \"ignore\")\n",
    "fa_file = print(contents)\n",
    "fa_file"
   ]
  },
  {
   "cell_type": "code",
   "execution_count": 12,
   "metadata": {},
   "outputs": [],
   "source": [
    "def fa_len_url(site):\n",
    "    u = site\n",
    "    f = urllib.request.urlopen(u)\n",
    "    fa_file = f.read().decode(\"utf-8\", \"ignore\")\n",
    "    line_count = 0\n",
    "    for line in fa_file:\n",
    "        if line.startswith('>'):\n",
    "            line_count = line_count + 1\n",
    "    return(line_count) # can be problematic because sometimes seq can run across several lines \n"
   ]
  },
  {
   "cell_type": "code",
   "execution_count": 13,
   "metadata": {},
   "outputs": [
    {
     "data": {
      "text/plain": [
       "4"
      ]
     },
     "execution_count": 13,
     "metadata": {},
     "output_type": "execute_result"
    }
   ],
   "source": [
    "site = 'http://molb7621.github.io/workshop/_downloads/sample.fa'\n",
    "fa_len_url(site)"
   ]
  },
  {
   "cell_type": "code",
   "execution_count": 14,
   "metadata": {},
   "outputs": [],
   "source": [
    "# 4. Write a function that converts a fastq file to a fasta file"
   ]
  },
  {
   "cell_type": "code",
   "execution_count": 23,
   "metadata": {},
   "outputs": [
    {
     "ename": "SyntaxError",
     "evalue": "unexpected EOF while parsing (<ipython-input-23-ef939e06b932>, line 5)",
     "output_type": "error",
     "traceback": [
      "\u001b[0;36m  File \u001b[0;32m\"<ipython-input-23-ef939e06b932>\"\u001b[0;36m, line \u001b[0;32m5\u001b[0m\n\u001b[0;31m    if count % 2 == 0 and count % 3 != 0: #this is the remainder operator\u001b[0m\n\u001b[0m                                                                         ^\u001b[0m\n\u001b[0;31mSyntaxError\u001b[0m\u001b[0;31m:\u001b[0m unexpected EOF while parsing\n"
     ]
    }
   ],
   "source": [
    "with open('SP1.fq', 'r') as f:\n",
    "    count = 0\n",
    "    for line in f:\n",
    "        count+=1\n",
    "        if count % 2 == 0: # will learn this tomorrow... \n",
    "            print(line) "
   ]
  },
  {
   "cell_type": "code",
   "execution_count": 73,
   "metadata": {},
   "outputs": [],
   "source": [
    "# 5. Create an instance of your 'Organism' class from last week. Demonstrate pickling it to a file, and loading it from the file. Note: when opening the file you may need to add the 'b' option"
   ]
  },
  {
   "cell_type": "code",
   "execution_count": 18,
   "metadata": {},
   "outputs": [],
   "source": [
    "os.chdir(\"/Users/ruijuanli/Desktop/2018_summer/Pithon_Ruijuan.L/Chapter_5/\")"
   ]
  },
  {
   "cell_type": "code",
   "execution_count": 19,
   "metadata": {},
   "outputs": [],
   "source": [
    "from Problem_2 import Organism\n",
    "plant1 = ('Plantae', 'Tracheophyta', 'Magnoliopsida', 'Brassicales',\n",
    "         'Brassicaceae', 'Brassica', 'Napus', 'DaAe')"
   ]
  },
  {
   "cell_type": "code",
   "execution_count": 20,
   "metadata": {},
   "outputs": [],
   "source": [
    "A = Organism(*plant1) # unpacking tuples "
   ]
  },
  {
   "cell_type": "code",
   "execution_count": 21,
   "metadata": {},
   "outputs": [
    {
     "name": "stdout",
     "output_type": "stream",
     "text": [
      "DaAe's short name description:\n",
      "Brassica napus\n"
     ]
    }
   ],
   "source": [
    "import pickle\n",
    "file = A.short() "
   ]
  },
  {
   "cell_type": "code",
   "execution_count": 22,
   "metadata": {},
   "outputs": [],
   "source": [
    "file # I don't know how to save the item to an object "
   ]
  },
  {
   "cell_type": "code",
   "execution_count": null,
   "metadata": {},
   "outputs": [],
   "source": []
  }
 ],
 "metadata": {
  "kernelspec": {
   "display_name": "Python 3",
   "language": "python",
   "name": "python3"
  },
  "language_info": {
   "codemirror_mode": {
    "name": "ipython",
    "version": 3
   },
   "file_extension": ".py",
   "mimetype": "text/x-python",
   "name": "python",
   "nbconvert_exporter": "python",
   "pygments_lexer": "ipython3",
   "version": "3.6.5"
  }
 },
 "nbformat": 4,
 "nbformat_minor": 2
}
